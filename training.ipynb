{
 "cells": [
  {
   "cell_type": "code",
   "execution_count": 1,
   "id": "5a89273c-c759-49f8-8c3c-0a3da61d4971",
   "metadata": {},
   "outputs": [],
   "source": [
    "import matplotlib.pyplot as plt\n",
    "import numpy as np\n",
    "import os\n",
    "import tensorflow as tf\n",
    "\n",
    "from tensorflow.keras.preprocessing import image_dataset_from_directory"
   ]
  },
  {
   "cell_type": "code",
   "execution_count": 2,
   "id": "9939a6d2-9d4c-408c-b800-2a842727e39b",
   "metadata": {},
   "outputs": [],
   "source": [
    "#dataset_dir = '/home/mazhar/FaceMaskDetection-jupyter/data'\n",
    "# dataset download link -> https://www.kaggle.com/omkargurav/face-mask-dataset\n",
    "dataset_dir = ''"
   ]
  },
  {
   "cell_type": "code",
   "execution_count": 3,
   "id": "f54f155c-13b0-48e5-b690-d09dc0fc3a8f",
   "metadata": {},
   "outputs": [],
   "source": [
    "BATCH_SIZE = 128\n",
    "IMG_SIZE = (160, 160)"
   ]
  },
  {
   "cell_type": "code",
   "execution_count": 4,
   "id": "c73b6113-8de9-4adb-b75d-89c1783cdbcd",
   "metadata": {},
   "outputs": [
    {
     "name": "stdout",
     "output_type": "stream",
     "text": [
      "Found 7553 files belonging to 2 classes.\n"
     ]
    }
   ],
   "source": [
    "train_dataset = image_dataset_from_directory(dataset_dir,\n",
    "                                             shuffle=True,\n",
    "                                             batch_size=BATCH_SIZE,\n",
    "                                             image_size=IMG_SIZE)"
   ]
  },
  {
   "cell_type": "code",
   "execution_count": 5,
   "id": "97cf579d-90ed-454a-b0e5-18bb7ea85caa",
   "metadata": {},
   "outputs": [],
   "source": [
    "def get_dataset_partitions_tf(ds, ds_size, train_split=0.8, val_split=0.1, test_split=0.1, shuffle=True, shuffle_size=10000):\n",
    "    assert (train_split + test_split + val_split) == 1\n",
    "    \n",
    "    if shuffle:\n",
    "        # Specify seed to always have the same split distribution between runs\n",
    "        ds = ds.shuffle(shuffle_size, seed=12)\n",
    "    \n",
    "    train_size = int(train_split * ds_size)\n",
    "    val_size = int(val_split * ds_size)\n",
    "    \n",
    "    train_ds = ds.take(train_size)    \n",
    "    val_ds = ds.skip(train_size).take(val_size)\n",
    "    test_ds = ds.skip(train_size).skip(val_size)\n",
    "    \n",
    "    return train_ds, val_ds, test_ds"
   ]
  },
  {
   "cell_type": "code",
   "execution_count": 6,
   "id": "4f595ab2-e869-4954-950c-0a8aa3ad0724",
   "metadata": {},
   "outputs": [],
   "source": [
    "train_dataset, validation_dataset, test_dataset = get_dataset_partitions_tf(train_dataset, \n",
    "                                                                     len(train_dataset))"
   ]
  },
  {
   "cell_type": "code",
   "execution_count": 7,
   "id": "172ad81c-6dfb-48f6-8f59-4eb26113da17",
   "metadata": {},
   "outputs": [],
   "source": [
    "AUTOTUNE = tf.data.AUTOTUNE\n",
    "\n",
    "train_dataset = train_dataset.prefetch(buffer_size=AUTOTUNE)\n",
    "validation_dataset = validation_dataset.prefetch(buffer_size=AUTOTUNE)\n",
    "test_dataset = test_dataset.prefetch(buffer_size=AUTOTUNE)"
   ]
  },
  {
   "cell_type": "code",
   "execution_count": 21,
   "id": "7a9d67c0-1331-40c1-8e93-8be43bc386e1",
   "metadata": {},
   "outputs": [
    {
     "data": {
      "text/plain": [
       "\"data_augmentor = tf.keras.Sequential([\\n    tf.keras.layers.experimental.preprocessing.RandomFlip('horizontal'),\\n    tf.keras.layers.experimental.preprocessing.RandomRotation(0.3)\\n])\\n\\nfor image, _ in train_dataset.take(1):\\n    plt.figure(figsize=(10, 10))\\n    first_image = image[0]\\n    for i in range(9):\\n        ax = plt.subplot(3, 3, i + 1)\\n        augmented_image = data_augmentor(tf.expand_dims(first_image, 0))\\n        plt.imshow(augmented_image[0] / 255)\\n        plt.axis('off')\""
      ]
     },
     "execution_count": 21,
     "metadata": {},
     "output_type": "execute_result"
    }
   ],
   "source": [
    "'''data_augmentor = tf.keras.Sequential([\n",
    "    tf.keras.layers.experimental.preprocessing.RandomFlip('horizontal'),\n",
    "    tf.keras.layers.experimental.preprocessing.RandomRotation(0.3)\n",
    "])\n",
    "\n",
    "for image, _ in train_dataset.take(1):\n",
    "    plt.figure(figsize=(10, 10))\n",
    "    first_image = image[0]\n",
    "    for i in range(9):\n",
    "        ax = plt.subplot(3, 3, i + 1)\n",
    "        augmented_image = data_augmentor(tf.expand_dims(first_image, 0))\n",
    "        plt.imshow(augmented_image[0] / 255)\n",
    "        plt.axis('off')'''"
   ]
  },
  {
   "cell_type": "code",
   "execution_count": 8,
   "id": "bba070b4-2783-487e-90c9-ecb7bd04cbfc",
   "metadata": {},
   "outputs": [],
   "source": [
    "from tensorflow.keras.applications import mobilenet_v2, MobileNetV2\n",
    "input_preprocessor = mobilenet_v2.preprocess_input"
   ]
  },
  {
   "cell_type": "code",
   "execution_count": 9,
   "id": "89d1d8f3-6d19-41b4-8323-5e8ff0bab317",
   "metadata": {},
   "outputs": [],
   "source": [
    "IMG_SHAPE = IMG_SIZE + (3,)\n",
    "base_model = MobileNetV2(input_shape = IMG_SHAPE,\n",
    "                        include_top=False)\n",
    "\n",
    "base_model.trainable = False"
   ]
  },
  {
   "cell_type": "code",
   "execution_count": 10,
   "id": "eed75c7b-7615-4987-a816-b63c7207e7a1",
   "metadata": {},
   "outputs": [],
   "source": [
    "# Model\n",
    "\n",
    "inputs = tf.keras.Input(shape=IMG_SHAPE)\n",
    "X = input_preprocessor(inputs)\n",
    "X = base_model(X)\n",
    "X = tf.keras.layers.GlobalAveragePooling2D()(X)\n",
    "outputs = tf.keras.layers.Dense(1, activation='sigmoid')(X)\n",
    "\n",
    "model = tf.keras.Model(inputs=inputs, outputs=outputs)"
   ]
  },
  {
   "cell_type": "code",
   "execution_count": 11,
   "id": "c9abe0bd-e926-4a92-83a4-1376491f86c4",
   "metadata": {},
   "outputs": [],
   "source": [
    "class MyEarlyStopping(tf.keras.callbacks.Callback):\n",
    "    \n",
    "    def __init__(self, monitor='val_accuracy', baseline=0.99):\n",
    "        super(MyEarlyStopping, self).__init__()\n",
    "        self.monitor = monitor\n",
    "        self.baseline = baseline\n",
    "\n",
    "    def on_epoch_end(self, epoch, logs=None):\n",
    "        logs = logs or {}\n",
    "        loss = logs.get(self.monitor)\n",
    "        if loss is not None:\n",
    "            if loss >= self.baseline:\n",
    "                print('Epoch %d: Reached baseline, terminating training' % (epoch))\n",
    "                self.model.stop_training = True\n",
    "\n",
    "EarylyStop = MyEarlyStopping(monitor='val_accuracy', baseline=0.99)"
   ]
  },
  {
   "cell_type": "code",
   "execution_count": 12,
   "id": "d1f7b3d1-43f9-46d2-8509-c1a8d02beeda",
   "metadata": {},
   "outputs": [],
   "source": [
    "model.compile(optimizer='rmsprop', loss='binary_crossentropy',\n",
    "             metrics=['accuracy'])"
   ]
  },
  {
   "cell_type": "code",
   "execution_count": 13,
   "id": "3b0e7fc7-295e-4035-827c-3a678ed18595",
   "metadata": {},
   "outputs": [
    {
     "name": "stdout",
     "output_type": "stream",
     "text": [
      "Model: \"model\"\n",
      "_________________________________________________________________\n",
      "Layer (type)                 Output Shape              Param #   \n",
      "=================================================================\n",
      "input_2 (InputLayer)         [(None, 160, 160, 3)]     0         \n",
      "_________________________________________________________________\n",
      "tf.math.truediv (TFOpLambda) (None, 160, 160, 3)       0         \n",
      "_________________________________________________________________\n",
      "tf.math.subtract (TFOpLambda (None, 160, 160, 3)       0         \n",
      "_________________________________________________________________\n",
      "mobilenetv2_1.00_160 (Functi (None, 5, 5, 1280)        2257984   \n",
      "_________________________________________________________________\n",
      "global_average_pooling2d (Gl (None, 1280)              0         \n",
      "_________________________________________________________________\n",
      "dense (Dense)                (None, 1)                 1281      \n",
      "=================================================================\n",
      "Total params: 2,259,265\n",
      "Trainable params: 1,281\n",
      "Non-trainable params: 2,257,984\n",
      "_________________________________________________________________\n"
     ]
    }
   ],
   "source": [
    "model.summary()"
   ]
  },
  {
   "cell_type": "code",
   "execution_count": 28,
   "id": "3c953928-74ea-4975-a472-ef2a6e3a22bc",
   "metadata": {},
   "outputs": [
    {
     "name": "stdout",
     "output_type": "stream",
     "text": [
      "Epoch 1/5\n"
     ]
    },
    {
     "name": "stderr",
     "output_type": "stream",
     "text": [
      "2021-07-31 22:46:37.639343: I tensorflow/compiler/mlir/mlir_graph_optimization_pass.cc:176] None of the MLIR Optimization Passes are enabled (registered 2)\n",
      "2021-07-31 22:46:37.672643: I tensorflow/core/platform/profile_utils/cpu_utils.cc:114] CPU Frequency: 2693820000 Hz\n"
     ]
    },
    {
     "name": "stdout",
     "output_type": "stream",
     "text": [
      "48/48 [==============================] - 81s 1s/step - loss: 0.2089 - accuracy: 0.9304 - val_loss: 0.0734 - val_accuracy: 0.9870\n",
      "Epoch 2/5\n",
      "48/48 [==============================] - 83s 2s/step - loss: 0.0545 - accuracy: 0.9865 - val_loss: 0.0467 - val_accuracy: 0.9883\n",
      "Epoch 3/5\n",
      "48/48 [==============================] - 100s 2s/step - loss: 0.0348 - accuracy: 0.9899 - val_loss: 0.0255 - val_accuracy: 0.9922\n",
      "Epoch 2: Reached baseline, terminating training\n"
     ]
    }
   ],
   "source": [
    "history = model.fit(train_dataset,\n",
    "                    epochs=5,\n",
    "                    validation_data=validation_dataset, callbacks=[EarylyStop])"
   ]
  },
  {
   "cell_type": "code",
   "execution_count": 29,
   "id": "4be0af4c-d54d-46d6-a704-34545c658632",
   "metadata": {},
   "outputs": [
    {
     "name": "stdout",
     "output_type": "stream",
     "text": [
      "6/6 [==============================] - 15s 1s/step - loss: 0.0419 - accuracy: 0.9857\n"
     ]
    },
    {
     "data": {
      "text/plain": [
       "[0.041862089186906815, 0.9856770634651184]"
      ]
     },
     "execution_count": 29,
     "metadata": {},
     "output_type": "execute_result"
    }
   ],
   "source": [
    "model.evaluate(test_dataset)"
   ]
  },
  {
   "cell_type": "code",
   "execution_count": 30,
   "id": "bc4b8e29-d255-4830-a1c5-5bcbffc04c5b",
   "metadata": {},
   "outputs": [
    {
     "name": "stderr",
     "output_type": "stream",
     "text": [
      "/home/mazhar/.local/lib/python3.8/site-packages/tensorflow/python/keras/utils/generic_utils.py:494: CustomMaskWarning: Custom mask layers require a config and must override get_config. When loading, the custom mask layer must be passed to the custom_objects argument.\n",
      "  warnings.warn('Custom mask layers require a config and must override '\n"
     ]
    }
   ],
   "source": [
    "model.save('models/face_mask_model.h5')"
   ]
  },
  {
   "cell_type": "code",
   "execution_count": null,
   "id": "4107f4d7-b40b-4a99-9ec9-84051b127e52",
   "metadata": {},
   "outputs": [],
   "source": []
  },
  {
   "cell_type": "code",
   "execution_count": null,
   "id": "83a6d83e-f275-47bb-90a0-d15882e03b0a",
   "metadata": {},
   "outputs": [],
   "source": []
  }
 ],
 "metadata": {
  "kernelspec": {
   "display_name": "Python 3",
   "language": "python",
   "name": "python3"
  },
  "language_info": {
   "codemirror_mode": {
    "name": "ipython",
    "version": 3
   },
   "file_extension": ".py",
   "mimetype": "text/x-python",
   "name": "python",
   "nbconvert_exporter": "python",
   "pygments_lexer": "ipython3",
   "version": "3.8.10"
  }
 },
 "nbformat": 4,
 "nbformat_minor": 5
}
